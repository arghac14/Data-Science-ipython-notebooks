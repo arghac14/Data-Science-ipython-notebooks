{
  "nbformat": 4,
  "nbformat_minor": 0,
  "metadata": {
    "colab": {
      "name": "Numpy_0.ipynb",
      "version": "0.3.2",
      "provenance": [],
      "collapsed_sections": []
    },
    "kernelspec": {
      "name": "python3",
      "display_name": "Python 3"
    }
  },
  "cells": [
    {
      "metadata": {
        "id": "_BfT312nPtF-",
        "colab_type": "code",
        "colab": {}
      },
      "cell_type": "code",
      "source": [
        "import numpy as np"
      ],
      "execution_count": 0,
      "outputs": []
    },
    {
      "metadata": {
        "id": "CNbZuJbEP1-1",
        "colab_type": "text"
      },
      "cell_type": "markdown",
      "source": [
        "#### 1D & 2D array"
      ]
    },
    {
      "metadata": {
        "id": "Xpm_Ru30QGtm",
        "colab_type": "code",
        "outputId": "12e5adae-a203-46dd-a06d-eb59d16cb9eb",
        "colab": {
          "base_uri": "https://localhost:8080/",
          "height": 101
        }
      },
      "cell_type": "code",
      "source": [
        "a=np.array([1,2,3])  #1d array\n",
        "print(a)\n",
        "print(a[1])\n",
        "\n",
        "\n",
        "b=np.array([(1,2,3),(4,5,6)])  #2d array\n",
        "print(b)\n",
        "print(b[1,0])"
      ],
      "execution_count": 0,
      "outputs": [
        {
          "output_type": "stream",
          "text": [
            "[1 2 3]\n",
            "2\n",
            "[[1 2 3]\n",
            " [4 5 6]]\n",
            "4\n"
          ],
          "name": "stdout"
        }
      ]
    },
    {
      "metadata": {
        "id": "F2_gfmltQmu0",
        "colab_type": "text"
      },
      "cell_type": "markdown",
      "source": [
        "#### Imp. properties"
      ]
    },
    {
      "metadata": {
        "id": "X1gsXRtrQvv0",
        "colab_type": "code",
        "outputId": "15f6dac1-1319-420b-f9b5-ff842ca71b7e",
        "colab": {
          "base_uri": "https://localhost:8080/",
          "height": 101
        }
      },
      "cell_type": "code",
      "source": [
        "a=np.array([1,2,3,4,5])\n",
        "\n",
        "print(a.ndim)          #Dimension of the array\n",
        "print(a.itemsize)      #Bytesizes of each elements of the array\n",
        "print(a.dtype)         #Datatypes of each elements of the array\n",
        "print(a.size)          #Size of the array\n",
        "print(a.shape)         #Shape of the array"
      ],
      "execution_count": 0,
      "outputs": [
        {
          "output_type": "stream",
          "text": [
            "1\n",
            "8\n",
            "int64\n",
            "5\n",
            "(5,)\n"
          ],
          "name": "stdout"
        }
      ]
    },
    {
      "metadata": {
        "id": "h5j93dUJRybs",
        "colab_type": "text"
      },
      "cell_type": "markdown",
      "source": [
        "#### Input"
      ]
    },
    {
      "metadata": {
        "id": "6xoTePCGR04z",
        "colab_type": "code",
        "outputId": "c7e4d9d1-ac00-4405-e909-0db99578abb2",
        "colab": {
          "base_uri": "https://localhost:8080/",
          "height": 50
        }
      },
      "cell_type": "code",
      "source": [
        "#For 1d array\n",
        "\n",
        "a=np.array(list(map(int,input().split())))\n",
        "print(a)"
      ],
      "execution_count": 0,
      "outputs": [
        {
          "output_type": "stream",
          "text": [
            "1 2 3\n",
            "[1 2 3]\n"
          ],
          "name": "stdout"
        }
      ]
    },
    {
      "metadata": {
        "id": "l4u5K4lBTARA",
        "colab_type": "code",
        "outputId": "d380910d-8412-4e10-bd4c-e19e7b4d35d8",
        "colab": {
          "base_uri": "https://localhost:8080/",
          "height": 118
        }
      },
      "cell_type": "code",
      "source": [
        "#For 2d array\n",
        "\n",
        "b=np.array([input().split() for i in range(3)],int)\n",
        "print(b)"
      ],
      "execution_count": 0,
      "outputs": [
        {
          "output_type": "stream",
          "text": [
            "1 2 3\n",
            "4 5 6\n",
            "7 8 9\n",
            "[[1 2 3]\n",
            " [4 5 6]\n",
            " [7 8 9]]\n"
          ],
          "name": "stdout"
        }
      ]
    },
    {
      "metadata": {
        "id": "v9G2qKN54qLp",
        "colab_type": "text"
      },
      "cell_type": "markdown",
      "source": [
        "###Shape & Reshape"
      ]
    },
    {
      "metadata": {
        "id": "x3pz1zgs4zEQ",
        "colab_type": "code",
        "outputId": "f957bf96-3daa-403a-b0eb-4e0a551ea6c0",
        "colab": {
          "base_uri": "https://localhost:8080/",
          "height": 118
        }
      },
      "cell_type": "code",
      "source": [
        "a=np.array([(1,2,3),(4,5,6)])\n",
        "print(a)\n",
        "\n",
        "print(a.shape)\n",
        "\n",
        "print(a.reshape(3,2))"
      ],
      "execution_count": 0,
      "outputs": [
        {
          "output_type": "stream",
          "text": [
            "[[1 2 3]\n",
            " [4 5 6]]\n",
            "(2, 3)\n",
            "[[1 2]\n",
            " [3 4]\n",
            " [5 6]]\n"
          ],
          "name": "stdout"
        }
      ]
    },
    {
      "metadata": {
        "id": "Chc9cI7Q5hRB",
        "colab_type": "text"
      },
      "cell_type": "markdown",
      "source": [
        "###Linespace"
      ]
    },
    {
      "metadata": {
        "id": "M46R9GvV5jCk",
        "colab_type": "code",
        "outputId": "34eee565-239c-4bf4-8a64-34fc3ba8de71",
        "colab": {
          "base_uri": "https://localhost:8080/",
          "height": 50
        }
      },
      "cell_type": "code",
      "source": [
        "a=np.linspace(1,3,10)\n",
        "print(a)                  #print 10 values at equal intervals from 1 to 3"
      ],
      "execution_count": 0,
      "outputs": [
        {
          "output_type": "stream",
          "text": [
            "[1.         1.22222222 1.44444444 1.66666667 1.88888889 2.11111111\n",
            " 2.33333333 2.55555556 2.77777778 3.        ]\n"
          ],
          "name": "stdout"
        }
      ]
    },
    {
      "metadata": {
        "id": "aaXlORvW58_x",
        "colab_type": "text"
      },
      "cell_type": "markdown",
      "source": [
        "###Arithmatic operations"
      ]
    },
    {
      "metadata": {
        "id": "RqFK8-dS6GqU",
        "colab_type": "code",
        "outputId": "d164e3e3-3dda-4b89-e370-1895470ae0a5",
        "colab": {
          "base_uri": "https://localhost:8080/",
          "height": 185
        }
      },
      "cell_type": "code",
      "source": [
        "#Additon,Subtraction,Multiplication,Division,Remainder\n",
        "a=np.array([(1,2,3),(4,5,6)])\n",
        "b=np.array([(7,8,9),(10,11,12)])\n",
        "\n",
        "print(a+b)\n",
        "print(a-b)\n",
        "print(a*b)\n",
        "print(a/b)\n",
        "print(a%b)"
      ],
      "execution_count": 0,
      "outputs": [
        {
          "output_type": "stream",
          "text": [
            "[[ 8 10 12]\n",
            " [14 16 18]]\n",
            "[[-6 -6 -6]\n",
            " [-6 -6 -6]]\n",
            "[[ 7 16 27]\n",
            " [40 55 72]]\n",
            "[[0.14285714 0.25       0.33333333]\n",
            " [0.4        0.45454545 0.5       ]]\n",
            "[[1 2 3]\n",
            " [4 5 6]]\n"
          ],
          "name": "stdout"
        }
      ]
    },
    {
      "metadata": {
        "id": "5Jq_kIBN7BY7",
        "colab_type": "code",
        "outputId": "0b23e3c2-62fd-4c61-bcb6-b1abc8a91ec6",
        "colab": {
          "base_uri": "https://localhost:8080/",
          "height": 67
        }
      },
      "cell_type": "code",
      "source": [
        "#Max,Min,Sum\n",
        "a=np.array([(1,8,3),(7,5,6)])\n",
        "\n",
        "print(np.max(a, axis= 0))   #axis=0 -> rows\n",
        "print(np.min(a, axis=1))    #axis=1 -> columns\n",
        "\n",
        "print(np.sum(a, axis=0))"
      ],
      "execution_count": 0,
      "outputs": [
        {
          "output_type": "stream",
          "text": [
            "[7 8 6]\n",
            "[1 5]\n",
            "[ 8 13  9]\n"
          ],
          "name": "stdout"
        }
      ]
    },
    {
      "metadata": {
        "id": "S3ZbEzca7-dc",
        "colab_type": "code",
        "outputId": "0ab287e7-9fd1-4186-c300-19bfb5a18806",
        "colab": {
          "base_uri": "https://localhost:8080/",
          "height": 101
        }
      },
      "cell_type": "code",
      "source": [
        "#Square root,mean,standard deviation,variance\n",
        "\n",
        "print(np.sqrt(a))\n",
        "print(np.mean(a))\n",
        "print(np.std(a))\n",
        "print(np.var(a))"
      ],
      "execution_count": 0,
      "outputs": [
        {
          "output_type": "stream",
          "text": [
            "[[1.         2.82842712 1.73205081]\n",
            " [2.64575131 2.23606798 2.44948974]]\n",
            "5.0\n",
            "2.3804761428476167\n",
            "5.666666666666667\n"
          ],
          "name": "stdout"
        }
      ]
    }
  ]
}