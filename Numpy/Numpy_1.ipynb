{
  "nbformat": 4,
  "nbformat_minor": 0,
  "metadata": {
    "colab": {
      "name": "Numpy_1.ipynb",
      "version": "0.3.2",
      "provenance": []
    },
    "kernelspec": {
      "name": "python3",
      "display_name": "Python 3"
    }
  },
  "cells": [
    {
      "metadata": {
        "id": "4fEkLSgbI_az",
        "colab_type": "text"
      },
      "cell_type": "markdown",
      "source": [
        "#Numpy[Continued]"
      ]
    },
    {
      "metadata": {
        "id": "6BCeyrEdJRVU",
        "colab_type": "code",
        "colab": {}
      },
      "cell_type": "code",
      "source": [
        "import numpy as np"
      ],
      "execution_count": 0,
      "outputs": []
    },
    {
      "metadata": {
        "id": "FL3YPGY_JT1F",
        "colab_type": "text"
      },
      "cell_type": "markdown",
      "source": [
        "### Conacatenating and Stacking"
      ]
    },
    {
      "metadata": {
        "id": "SuouNB7cJXLb",
        "colab_type": "code",
        "outputId": "af9a1b77-d323-4b2c-9525-3837feebd6b6",
        "colab": {
          "base_uri": "https://localhost:8080/",
          "height": 168
        }
      },
      "cell_type": "code",
      "source": [
        "#Concatenating\n",
        "\n",
        "a = np.array([[1, 2], [3, 4]])\n",
        "b = np.array([[5, 6]])\n",
        "\n",
        "print(np.concatenate((a,b),axis=0))\n",
        "print(np.concatenate((a,b.T),axis=1))\n",
        "\n",
        "#Stacking\n",
        "\n",
        "print(np.vstack(a))                   #Vertical Stacking\n",
        "print(np.hstack(a))                   #Horizontal Stacking\n",
        "\n",
        "\n",
        "#Conveting in a single column using ravel()\n",
        "\n",
        "print(a.ravel())"
      ],
      "execution_count": 0,
      "outputs": [
        {
          "output_type": "stream",
          "text": [
            "[[1 2]\n",
            " [3 4]\n",
            " [5 6]]\n",
            "[[1 2 5]\n",
            " [3 4 6]]\n",
            "[[1 2]\n",
            " [3 4]]\n",
            "[1 2 3 4]\n",
            "[1 2 3 4]\n"
          ],
          "name": "stdout"
        }
      ]
    },
    {
      "metadata": {
        "id": "DAoTgNUXMBdk",
        "colab_type": "text"
      },
      "cell_type": "markdown",
      "source": [
        "### New axis (Adding one more dimension)"
      ]
    },
    {
      "metadata": {
        "id": "VQxUuOLfMnkX",
        "colab_type": "code",
        "outputId": "92aba01a-11e2-4953-938d-4d40aa706d2e",
        "colab": {
          "base_uri": "https://localhost:8080/",
          "height": 67
        }
      },
      "cell_type": "code",
      "source": [
        "a=np.array([1,2,3,4])\n",
        "print(a)\n",
        "\n",
        "print(a[np.newaxis:])\n",
        "print(a[:np.newaxis])"
      ],
      "execution_count": 0,
      "outputs": [
        {
          "output_type": "stream",
          "text": [
            "[1 2 3 4]\n",
            "[1 2 3 4]\n",
            "[1 2 3 4]\n"
          ],
          "name": "stdout"
        }
      ]
    },
    {
      "metadata": {
        "id": "5IgnGKQpNHDi",
        "colab_type": "text"
      },
      "cell_type": "markdown",
      "source": [
        "### Tanspose and Flatten"
      ]
    },
    {
      "metadata": {
        "id": "HEqCgKB1NLN3",
        "colab_type": "code",
        "outputId": "285ea0fd-d4bb-4b97-c65a-76aebd4aa098",
        "colab": {
          "base_uri": "https://localhost:8080/",
          "height": 67
        }
      },
      "cell_type": "code",
      "source": [
        "a=np.array([(1,2),(3,4)])\n",
        "\n",
        "print(a.transpose())    #Transpose\n",
        "print(a.flatten())      #Flatten"
      ],
      "execution_count": 0,
      "outputs": [
        {
          "output_type": "stream",
          "text": [
            "[[1 3]\n",
            " [2 4]]\n",
            "[1 2 3 4]\n"
          ],
          "name": "stdout"
        }
      ]
    },
    {
      "metadata": {
        "id": "NZ-zFACGOA9S",
        "colab_type": "text"
      },
      "cell_type": "markdown",
      "source": [
        "### Eye and Identity"
      ]
    },
    {
      "metadata": {
        "id": "61cnH4CiODh8",
        "colab_type": "code",
        "outputId": "b07abb10-8b6e-4f67-8422-4444bbf748a6",
        "colab": {
          "base_uri": "https://localhost:8080/",
          "height": 151
        }
      },
      "cell_type": "code",
      "source": [
        "print(np.eye(5,4,k=1))     #5x4 array with 1st upper diagonal with 1s\n",
        "\n",
        "print(np.identity(3))      # dimension-3"
      ],
      "execution_count": 0,
      "outputs": [
        {
          "output_type": "stream",
          "text": [
            "[[0. 1. 0. 0.]\n",
            " [0. 0. 1. 0.]\n",
            " [0. 0. 0. 1.]\n",
            " [0. 0. 0. 0.]\n",
            " [0. 0. 0. 0.]]\n",
            "[[1. 0. 0.]\n",
            " [0. 1. 0.]\n",
            " [0. 0. 1.]]\n"
          ],
          "name": "stdout"
        }
      ]
    },
    {
      "metadata": {
        "id": "S9N3MF6iOgWK",
        "colab_type": "text"
      },
      "cell_type": "markdown",
      "source": [
        "### Floor, Ceil ,Rint"
      ]
    },
    {
      "metadata": {
        "id": "XOy0QqUhO7Od",
        "colab_type": "code",
        "outputId": "5c7ce96c-e0d6-4fb1-acff-a8c1ca73cf53",
        "colab": {
          "base_uri": "https://localhost:8080/",
          "height": 67
        }
      },
      "cell_type": "code",
      "source": [
        "a=np.array([1.2,0.3,5.9])\n",
        "\n",
        "print(np.floor(a))\n",
        "print(np.ceil(a))\n",
        "print(np.rint(a))"
      ],
      "execution_count": 0,
      "outputs": [
        {
          "output_type": "stream",
          "text": [
            "[1. 0. 5.]\n",
            "[2. 1. 6.]\n",
            "[1. 0. 5.]\n"
          ],
          "name": "stdout"
        }
      ]
    },
    {
      "metadata": {
        "id": "Wco04yY2PP-8",
        "colab_type": "text"
      },
      "cell_type": "markdown",
      "source": [
        "### Dot and Cross"
      ]
    },
    {
      "metadata": {
        "id": "fA-4IZdoPSjp",
        "colab_type": "code",
        "outputId": "45eff5b3-e7c8-4b3e-d534-0d1c16f90da8",
        "colab": {
          "base_uri": "https://localhost:8080/",
          "height": 50
        }
      },
      "cell_type": "code",
      "source": [
        "a=np.array([1,2,3])\n",
        "b=np.array([4,5,6])\n",
        "\n",
        "print(np.dot(a,b))\n",
        "print(np.cross(a,b))"
      ],
      "execution_count": 0,
      "outputs": [
        {
          "output_type": "stream",
          "text": [
            "32\n",
            "[-3  6 -3]\n"
          ],
          "name": "stdout"
        }
      ]
    }
  ]
}