{
  "nbformat": 4,
  "nbformat_minor": 0,
  "metadata": {
    "colab": {
      "name": "Numpy_2.ipynb",
      "version": "0.3.2",
      "provenance": []
    },
    "kernelspec": {
      "name": "python3",
      "display_name": "Python 3"
    }
  },
  "cells": [
    {
      "metadata": {
        "id": "1zfSMSO2dNdF",
        "colab_type": "text"
      },
      "cell_type": "markdown",
      "source": [
        "# Numpy [Continued]"
      ]
    },
    {
      "metadata": {
        "id": "8uZMyFlJdS2n",
        "colab_type": "code",
        "colab": {}
      },
      "cell_type": "code",
      "source": [
        "import numpy as np"
      ],
      "execution_count": 0,
      "outputs": []
    },
    {
      "metadata": {
        "id": "llMuYtNNdVFB",
        "colab_type": "text"
      },
      "cell_type": "markdown",
      "source": [
        "##Array Slicing"
      ]
    },
    {
      "metadata": {
        "id": "bB42IbY2d0Tc",
        "colab_type": "text"
      },
      "cell_type": "markdown",
      "source": [
        "###1d"
      ]
    },
    {
      "metadata": {
        "id": "S5jAZSXKd2I6",
        "colab_type": "code",
        "outputId": "374f3dd7-1b4e-4a22-8806-2becd6bda4ac",
        "colab": {
          "base_uri": "https://localhost:8080/",
          "height": 34
        }
      },
      "cell_type": "code",
      "source": [
        "a=np.arange(10)\n",
        "print(a)"
      ],
      "execution_count": 0,
      "outputs": [
        {
          "output_type": "stream",
          "text": [
            "[0 1 2 3 4 5 6 7 8 9]\n"
          ],
          "name": "stdout"
        }
      ]
    },
    {
      "metadata": {
        "id": "ppZffdcjeQjp",
        "colab_type": "code",
        "outputId": "a2da5def-28a4-4a67-de9e-c4404b065e17",
        "colab": {
          "base_uri": "https://localhost:8080/",
          "height": 34
        }
      },
      "cell_type": "code",
      "source": [
        "print(a[2:])          #prints from 3rd index to last index"
      ],
      "execution_count": 0,
      "outputs": [
        {
          "output_type": "stream",
          "text": [
            "[2 3 4 5 6 7 8 9]\n"
          ],
          "name": "stdout"
        }
      ]
    },
    {
      "metadata": {
        "id": "ywr2h12XeSm-",
        "colab_type": "code",
        "outputId": "c0bf76d3-317f-4b1c-a759-0455db194cab",
        "colab": {
          "base_uri": "https://localhost:8080/",
          "height": 34
        }
      },
      "cell_type": "code",
      "source": [
        "print(a[:3])          #prints starting index to 5th index"
      ],
      "execution_count": 0,
      "outputs": [
        {
          "output_type": "stream",
          "text": [
            "[0 1 2]\n"
          ],
          "name": "stdout"
        }
      ]
    },
    {
      "metadata": {
        "id": "VWLjfR1Fekqi",
        "colab_type": "code",
        "outputId": "58d3e94b-8534-41da-a890-7343aae82b5f",
        "colab": {
          "base_uri": "https://localhost:8080/",
          "height": 34
        }
      },
      "cell_type": "code",
      "source": [
        "print(a[2:5])         #prints from 3rd index to 5th index"
      ],
      "execution_count": 0,
      "outputs": [
        {
          "output_type": "stream",
          "text": [
            "[2 3 4]\n"
          ],
          "name": "stdout"
        }
      ]
    },
    {
      "metadata": {
        "id": "gstRSXixe9D8",
        "colab_type": "code",
        "outputId": "4fe1711a-e20c-490d-efa6-eab724736ef2",
        "colab": {
          "base_uri": "https://localhost:8080/",
          "height": 34
        }
      },
      "cell_type": "code",
      "source": [
        "print(a[-2:])         #prints second last index to last index"
      ],
      "execution_count": 0,
      "outputs": [
        {
          "output_type": "stream",
          "text": [
            "[8 9]\n"
          ],
          "name": "stdout"
        }
      ]
    },
    {
      "metadata": {
        "id": "FeB1AGe2gEES",
        "colab_type": "code",
        "outputId": "1336f40d-8b53-46eb-fc48-f42fdf58c09f",
        "colab": {
          "base_uri": "https://localhost:8080/",
          "height": 34
        }
      },
      "cell_type": "code",
      "source": [
        "print(a[:-3])         #prints first index to 4th last index        "
      ],
      "execution_count": 0,
      "outputs": [
        {
          "output_type": "stream",
          "text": [
            "[0 1 2 3 4 5 6]\n"
          ],
          "name": "stdout"
        }
      ]
    },
    {
      "metadata": {
        "id": "a-97GdDWghnF",
        "colab_type": "code",
        "outputId": "758a24e2-1dfd-4836-a81b-43d0b9b32b96",
        "colab": {
          "base_uri": "https://localhost:8080/",
          "height": 34
        }
      },
      "cell_type": "code",
      "source": [
        "print(a[-5:-1])       #prints 5th last index to 2nd last index"
      ],
      "execution_count": 0,
      "outputs": [
        {
          "output_type": "stream",
          "text": [
            "[5 6 7 8]\n"
          ],
          "name": "stdout"
        }
      ]
    },
    {
      "metadata": {
        "id": "x93PGf6kg-VE",
        "colab_type": "code",
        "outputId": "03eb6676-9831-4b2b-d9e1-0fadeba221e3",
        "colab": {
          "base_uri": "https://localhost:8080/",
          "height": 34
        }
      },
      "cell_type": "code",
      "source": [
        "print(a[1:8:3])       #prints 2nd index to 8th index jumping 3 elements in b etween"
      ],
      "execution_count": 0,
      "outputs": [
        {
          "output_type": "stream",
          "text": [
            "[1 4 7]\n"
          ],
          "name": "stdout"
        }
      ]
    },
    {
      "metadata": {
        "id": "e0-M1gbQhWSd",
        "colab_type": "code",
        "outputId": "6564d51e-3a33-4a3c-ca21-e9dbe2d3a8af",
        "colab": {
          "base_uri": "https://localhost:8080/",
          "height": 50
        }
      },
      "cell_type": "code",
      "source": [
        "print(a[::-1])        #Reverses the array\n",
        "\n",
        "print(a[::-2])        #Jumping 2 elements in between"
      ],
      "execution_count": 0,
      "outputs": [
        {
          "output_type": "stream",
          "text": [
            "[9 8 7 6 5 4 3 2 1 0]\n",
            "[9 7 5 3 1]\n"
          ],
          "name": "stdout"
        }
      ]
    },
    {
      "metadata": {
        "id": "h4mo_YdVif-S",
        "colab_type": "text"
      },
      "cell_type": "markdown",
      "source": [
        "###2d"
      ]
    },
    {
      "metadata": {
        "id": "iwTv0SuNihLk",
        "colab_type": "code",
        "outputId": "57b9eac3-de6e-4d62-b933-ddc3899cd669",
        "colab": {
          "base_uri": "https://localhost:8080/",
          "height": 67
        }
      },
      "cell_type": "code",
      "source": [
        "a=np.array([(1,2,3),(4,5,6),(7,8,9)])\n",
        "print(a)\n",
        "\n",
        "#     0 1 2\n",
        "# 0 [[1 2 3]\n",
        "# 1  [4 5 6]\n",
        "# 2  [7 8 9]]"
      ],
      "execution_count": 0,
      "outputs": [
        {
          "output_type": "stream",
          "text": [
            "[[1 2 3]\n",
            " [4 5 6]\n",
            " [7 8 9]]\n"
          ],
          "name": "stdout"
        }
      ]
    },
    {
      "metadata": {
        "id": "iYIDJHo6njMF",
        "colab_type": "code",
        "outputId": "cce114f7-d18c-4e99-9555-1e7bfe6315f4",
        "colab": {
          "base_uri": "https://localhost:8080/",
          "height": 50
        }
      },
      "cell_type": "code",
      "source": [
        "print(a[1:,1:])"
      ],
      "execution_count": 0,
      "outputs": [
        {
          "output_type": "stream",
          "text": [
            "[[5 6]\n",
            " [8 9]]\n"
          ],
          "name": "stdout"
        }
      ]
    },
    {
      "metadata": {
        "id": "f6xF8rWBpLMI",
        "colab_type": "code",
        "outputId": "35c0cdbf-bf36-428e-f11f-4c060d9d476b",
        "colab": {
          "base_uri": "https://localhost:8080/",
          "height": 34
        }
      },
      "cell_type": "code",
      "source": [
        "print(a[:1,:2])"
      ],
      "execution_count": 0,
      "outputs": [
        {
          "output_type": "stream",
          "text": [
            "[[1 2]]\n"
          ],
          "name": "stdout"
        }
      ]
    }
  ]
}